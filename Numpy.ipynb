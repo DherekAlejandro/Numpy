{
 "cells": [
  {
   "attachments": {},
   "cell_type": "markdown",
   "id": "7a860cc2-f6b8-4e81-8187-dc4f9b8099ce",
   "metadata": {},
   "source": [
    "    Actividad 1. Definir arreglos NumPy unidimensionales y multidimensionales.\n",
    "    Actividad 2.Aprovechar los métodos y funciones incorporados en NumPy.\n",
    "    Actividad 3.Realizar operaciones matemáticas con NumPy.\n",
    "    Actividad 4.Realizar el corte y la indexación de arreglos.\n",
    "    Actividad 5.Realizar la selección de elementos (condicional).\n",
    "    Actividad 6.Entender los fundamentos de pandas.\n",
    "    Actividad 7. Pandas con datos CSV y HTML.\n",
    "    Actividad 8.Operaciones con Pandas.\n",
    "    Actividad 9.Pandas con funciones.\n",
    "    Actividad 10.Realizar ordenamientos y clasificaciones en pandas.\n",
    "    Actividad 11.Realizar concatenaciones y fusiones con pandas.\n",
    "    Actividad 12.Proyecto y conclusiones finales."
   ]
  },
  {
   "cell_type": "code",
   "execution_count": null,
   "id": "49e470f1-7981-4fa4-8e3b-8142703b7b8b",
   "metadata": {},
   "outputs": [],
   "source": [
    "import numpy as np\n",
    "import pandas as pd"
   ]
  },
  {
   "cell_type": "markdown",
   "id": "c41b294a-0413-45c2-9e01-fb50a0f09296",
   "metadata": {},
   "source": [
    "Actividad #1"
   ]
  },
  {
   "cell_type": "code",
   "execution_count": null,
   "id": "04f1efe6-4bab-4d9d-88c8-a5677335f873",
   "metadata": {},
   "outputs": [],
   "source": [
    "\n",
    "array_unidimensional = np.array([50, 100, 150, 200])\n",
    "array_unidimensional"
   ]
  },
  {
   "cell_type": "code",
   "execution_count": null,
   "id": "60158acb-039c-4c91-a358-8c88f7a53f9b",
   "metadata": {},
   "outputs": [],
   "source": [
    "l = (50, 100, 150, 200)\n",
    "\n",
    "array_unidimensional = np.array(l)\n",
    "array_unidimensional"
   ]
  },
  {
   "cell_type": "code",
   "execution_count": null,
   "id": "e61ae912-f199-4f0a-b38c-de3229422309",
   "metadata": {},
   "outputs": [],
   "source": [
    "array_multidimensional = np.array ([[50, 100, 150],\n",
    "                               [200, 250, 300]])\n",
    "array_multidimensional"
   ]
  },
  {
   "cell_type": "markdown",
   "id": "45667e6a-39a5-42ce-aac0-92beda8caa41",
   "metadata": {},
   "source": [
    "Actividad 2"
   ]
  },
  {
   "cell_type": "code",
   "execution_count": null,
   "id": "56d5ff7d-858f-4e9f-b929-2f91e4e7986f",
   "metadata": {},
   "outputs": [],
   "source": [
    "array_unidimensional = np.random.rand(5)\n",
    "array_unidimensional"
   ]
  },
  {
   "cell_type": "code",
   "execution_count": null,
   "id": "1dc276de-3264-4ebf-affb-96f881b88f58",
   "metadata": {},
   "outputs": [],
   "source": [
    "array_bidimensional = np.random.rand(3, 4)\n",
    "array_bidimensional"
   ]
  },
  {
   "cell_type": "code",
   "execution_count": null,
   "id": "2333901a-e67d-4035-987e-af3e979d7c29",
   "metadata": {},
   "outputs": [],
   "source": [
    "numero_aleatorio = np.random.randint(0, 10)\n",
    "numero_aleatorio"
   ]
  },
  {
   "cell_type": "code",
   "execution_count": null,
   "id": "ea1bc253-e3b2-43cc-86ae-175f87015c84",
   "metadata": {},
   "outputs": [],
   "source": [
    "array_unidimensional = np.random.randint(1, 100, size=5)\n",
    "array_unidimensional"
   ]
  },
  {
   "cell_type": "code",
   "execution_count": null,
   "id": "f8ee66ac-1cc4-4a8c-b6c7-1b5ce0b64af0",
   "metadata": {},
   "outputs": [],
   "source": [
    "array_bidimensional = np.random.randint(10, 50, size=(3, 4))\n",
    "array_bidimensional"
   ]
  },
  {
   "cell_type": "code",
   "execution_count": null,
   "id": "26c698f6-9797-4ffa-af4d-e7e82d3fab39",
   "metadata": {},
   "outputs": [],
   "source": [
    "array = np.arange(10)\n",
    "array"
   ]
  },
  {
   "cell_type": "code",
   "execution_count": null,
   "id": "73027416-5bef-4e71-a12a-4bce1dc9db4b",
   "metadata": {},
   "outputs": [],
   "source": [
    "array = np.arange(5, 15, 2)\n",
    "array\n"
   ]
  },
  {
   "cell_type": "code",
   "execution_count": null,
   "id": "4ecfca3f-d415-4d59-b34d-102b6ade6cab",
   "metadata": {},
   "outputs": [],
   "source": [
    "array = np.arange(0.5, 5.0, 0.5)\n",
    "array"
   ]
  },
  {
   "cell_type": "code",
   "execution_count": null,
   "id": "d54a6857-7cca-401d-a58c-1de9aeb7895e",
   "metadata": {},
   "outputs": [],
   "source": [
    "matriz_diagonal = np.eye(3, dtype=int)\n",
    "matriz_diagonal"
   ]
  },
  {
   "cell_type": "code",
   "execution_count": null,
   "id": "f29b989c-2702-4f35-be0f-b6cd3f12f49c",
   "metadata": {},
   "outputs": [],
   "source": [
    "matriz_diagonal = np.eye(4, 5, dtype=int)\n",
    "matriz_diagonal"
   ]
  },
  {
   "cell_type": "code",
   "execution_count": null,
   "id": "a95fc53b-60c8-4cb8-9243-86ef876194b6",
   "metadata": {},
   "outputs": [],
   "source": [
    "matriz_diagonal_superior = np.eye(4, k=1, dtype=int)\n",
    "matriz_diagonal_superior"
   ]
  },
  {
   "cell_type": "code",
   "execution_count": null,
   "id": "cfcb6b32-90bf-4de7-80cb-799589c9fce0",
   "metadata": {},
   "outputs": [],
   "source": [
    "matriz_de_unos = np.ones((3, 3), dtype=int)\n",
    "matriz_de_unos"
   ]
  },
  {
   "cell_type": "code",
   "execution_count": null,
   "id": "40f12282-74b4-4bc5-87f4-e5f42f9df54b",
   "metadata": {},
   "outputs": [],
   "source": [
    "matriz_de_ceros = np.zeros((3, 3), dtype=int)\n",
    "matriz_de_ceros"
   ]
  },
  {
   "cell_type": "markdown",
   "id": "669c3531-02d0-47c6-9a17-3fa4c0c5f236",
   "metadata": {},
   "source": [
    "Actividad 3"
   ]
  },
  {
   "cell_type": "code",
   "execution_count": null,
   "id": "c0c81e2e-e8d4-4134-b970-ad2077500c20",
   "metadata": {},
   "outputs": [],
   "source": [
    "array1 = np.array([[1, 2, 3], [4, 5, 6]])\n",
    "array2 = np.array([[7, 8, 9], [10, 11, 12]])\n",
    "\n",
    "resultado = array1 + array2\n",
    "\n",
    "print(\"Resultado de la suma:\")\n",
    "resultado"
   ]
  },
  {
   "cell_type": "code",
   "execution_count": null,
   "id": "655c256b-f1a1-4565-855e-850735aa07e0",
   "metadata": {},
   "outputs": [],
   "source": [
    "array1 = np.array([[1, 2, 3], [4, 5, 6]])\n",
    "array2 = np.array([[7, 8, 9], [10, 11, 12]])\n",
    "\n",
    "resultado = np.add(array1, array2)\n",
    "\n",
    "print(\"Resultado de la suma usando np.add():\")\n",
    "resultado"
   ]
  },
  {
   "cell_type": "code",
   "execution_count": null,
   "id": "777b17f9-b861-484b-88dd-2fdbfd724951",
   "metadata": {},
   "outputs": [],
   "source": [
    "x1, y1 = 2, 3\n",
    "x2, y2 = 5, 7\n",
    "\n",
    "distancia = np.sqrt((x2 - x1)**2 + (y2 - y1)**2)\n",
    "\n",
    "print(\"La distancia entre los puntos es:\", distancia)\n"
   ]
  },
  {
   "cell_type": "markdown",
   "id": "0e7830a6-95a9-4f32-b317-01d9dd581cc4",
   "metadata": {},
   "source": [
    "Actividad 4"
   ]
  },
  {
   "cell_type": "code",
   "execution_count": null,
   "id": "17175c9a-0dc9-4f2a-94b2-8730dc3d59d0",
   "metadata": {},
   "outputs": [],
   "source": [
    "array_1d = np.array([10, 20, 30, 40, 50])\n",
    "element = array_1d[2]\n",
    "\n",
    "print(\"Elemento en el índice 2:\", element)"
   ]
  },
  {
   "cell_type": "code",
   "execution_count": null,
   "id": "b78ccad6-f6c6-440b-aba2-c471796d8a0a",
   "metadata": {},
   "outputs": [],
   "source": [
    "array_2d = np.array([[1, 2, 3], [4, 5, 6], [7, 8, 9]])\n",
    "element = array_2d[1, 2]\n",
    "\n",
    "print(\"Elemento en la fila 1, columna 2:\", element)"
   ]
  },
  {
   "cell_type": "code",
   "execution_count": null,
   "id": "a401ddd7-9c6a-40ce-ab17-0cc66ae64118",
   "metadata": {},
   "outputs": [],
   "source": [
    "array_3d = np.array([[[1, 2, 3], [4, 5, 6]], [[7, 8, 9], [10, 11, 12]]])\n",
    "element = array_3d[1, 0, 2]\n",
    "\n",
    "print(\"Elemento en la capa 1, fila 0, columna 2:\", element)"
   ]
  },
  {
   "cell_type": "code",
   "execution_count": null,
   "id": "025d01d7-94bd-42fd-aba7-da030f521b93",
   "metadata": {},
   "outputs": [],
   "source": [
    "array = np.array([10, 20, 30, 40, 50])\n",
    "subset = array[:-1]\n",
    "1\n",
    "print(\"Array original:\", array)\n",
    "print(\"Subset (desde el índice 0 hasta el penúltimo elemento):\", subset)\n"
   ]
  },
  {
   "cell_type": "code",
   "execution_count": null,
   "id": "0cb92c54-a744-4bf0-9f2e-744bc8e2e547",
   "metadata": {},
   "outputs": [],
   "source": [
    "array_2d = np.array([[1, 2, 3], [4, 5, 6], [7, 8, 9]])\n",
    "subset_2d = array_2d[:, :-1]\n",
    "\n",
    "print(\"Array 2D original:\")\n",
    "array_2d\n",
    "print(\"Subset 2D (todas las filas y todas las columnas excepto la última):\")\n",
    "subset_2d"
   ]
  },
  {
   "cell_type": "code",
   "execution_count": null,
   "id": "28d29148-0e33-49b8-b498-c198ba51de04",
   "metadata": {},
   "outputs": [],
   "source": [
    "array = np.array([1, 2, 3, 4, 5])\n",
    "result = array + 10\n",
    "\n",
    "print(\"Array original:\", array)\n",
    "print(\"Array después de sumar el escalar:\", result)"
   ]
  },
  {
   "cell_type": "code",
   "execution_count": null,
   "id": "e6065a26-36bc-498b-a452-95ac49b56df7",
   "metadata": {},
   "outputs": [],
   "source": [
    "array_2d = np.array([[1, 2, 3], [4, 5, 6]])\n",
    "array_1d = np.array([10, 20, 30])\n",
    "\n",
    "result = array_2d + array_1d\n",
    "\n",
    "print(\"Array 2D original:\")\n",
    "print(array_2d)\n",
    "print(\"Array 1D:\")\n",
    "print(array_1d)\n",
    "print(\"Array 2D después de sumar el array 1D:\")\n",
    "result"
   ]
  },
  {
   "cell_type": "code",
   "execution_count": null,
   "id": "b7ea90e7-4615-45a6-b1e6-225f3bef1c72",
   "metadata": {},
   "outputs": [],
   "source": [
    "matrix = np.array([[10, 20, 30], [40, 50, 60], [70, 80, 90]])\n",
    "vector = np.array([1, 2, 3])\n",
    "\n",
    "result = matrix - vector\n",
    "\n",
    "print(\"Matriz original:\")\n",
    "print(matrix)\n",
    "print(\"Vector:\")\n",
    "print(vector)\n",
    "print(\"Matriz después de restar el vector:\")\n",
    "result"
   ]
  },
  {
   "cell_type": "code",
   "execution_count": null,
   "id": "87c8f338-bed5-4ac8-934a-95af93f1b8b7",
   "metadata": {},
   "outputs": [],
   "source": [
    "matrix = np.array([[10, 20, 30],\n",
    "                   [40, 50, 60],\n",
    "                   [70, 80, 90]])\n",
    "row = matrix[1]\n",
    "\n",
    "print(\"Matriz original:\")\n",
    "print(matrix)\n",
    "print(\"Fila obtenida (fila 1):\")\n",
    "row"
   ]
  },
  {
   "cell_type": "code",
   "execution_count": null,
   "id": "44767a22-8036-4016-9701-c33215ef05f3",
   "metadata": {},
   "outputs": [],
   "source": [
    "matrix = np.array([[10, 20, 30],\n",
    "                   [40, 50, 60],\n",
    "                   [70, 80, 90]])\n",
    "rows = matrix[[0, 2]]\n",
    "\n",
    "print(\"Filas obtenidas (fila 0 y fila 2):\")\n",
    "rows"
   ]
  },
  {
   "cell_type": "code",
   "execution_count": null,
   "id": "195be5a7-3e99-4137-87f9-329c683522a7",
   "metadata": {},
   "outputs": [],
   "source": [
    "import numpy as np\n",
    "\n",
    "matrix = np.array([[1, 2, 3],\n",
    "                   [4, 5, 6],\n",
    "                   [7, 8, 9]])\n",
    "element = matrix[1, 2]\n",
    "\n",
    "print(\"Matriz original:\")\n",
    "matrix\n",
    "print(\"Elemento en la fila 1, columna 2:\")\n",
    "element\n"
   ]
  },
  {
   "cell_type": "code",
   "execution_count": null,
   "id": "f4b7a6c7-37c9-42aa-b35f-a3cd6f5d78c7",
   "metadata": {},
   "outputs": [],
   "source": [
    "array_3d = np.array([[[1, 2, 3],\n",
    "                      [4, 5, 6]],\n",
    "                     \n",
    "                     [[7, 8, 9],\n",
    "                      [10, 11, 12]]])\n",
    "element = array_3d[1, 0, 2]\n",
    "\n",
    "print(\"Array 3D original:\")\n",
    "array_3d\n",
    "print(\"Elemento en la capa 1, fila 0, columna 2:\")\n",
    "element"
   ]
  },
  {
   "cell_type": "code",
   "execution_count": null,
   "id": "c30cbc61-428c-40f7-83e3-637f1e44126f",
   "metadata": {},
   "outputs": [],
   "source": [
    "X = np.array([[2, 30, 20, -2, -4],\n",
    "              [3, 4, 40, -3, -2],\n",
    "              [-3, 4, -6, 90, 10],\n",
    "              [25, 45, 34, 22, 12],\n",
    "              [13, 24, 22, 32, 37]])\n",
    "X[-1, :] = 0\n",
    "\n",
    "print(\"Matriz después de reemplazar la última fila con ceros:\")\n",
    "X"
   ]
  },
  {
   "cell_type": "code",
   "execution_count": null,
   "id": "d33a7d98-a661-469a-909d-9fd32ea9c3fd",
   "metadata": {},
   "outputs": [],
   "source": [
    "X = np.array([[2, 30, 20, -2, -4],\n",
    "              [3, 4, 40, -3, -2],\n",
    "              [-3, 4, -6, 90, 10],\n",
    "              [25, 45, 34, 22, 12],\n",
    "              [13, 24, 22, 32, 37]])\n",
    "X[:, -1] = 0\n",
    "\n",
    "print(\"\\nMatriz después de reemplazar la última columna con ceros:\")\n",
    "X"
   ]
  },
  {
   "cell_type": "code",
   "execution_count": null,
   "id": "8e4480a8-2d96-463f-9cd4-3e4c2a3e40b3",
   "metadata": {},
   "outputs": [],
   "source": [
    "matrix = np.array([[1, 2, 3, 4],\n",
    "                   [5, 6, 7, 8],\n",
    "                   [9, 10, 11, 12],\n",
    "                   [13, 14, 15, 16]])\n",
    "\n",
    "odd_elements = matrix[matrix % 2 != 0]\n",
    "\n",
    "print(\"Elementos impares:\")\n",
    "odd_elements"
   ]
  }
 ],
 "metadata": {
  "kernelspec": {
   "display_name": "Python 3 (ipykernel)",
   "language": "python",
   "name": "python3"
  },
  "language_info": {
   "codemirror_mode": {
    "name": "ipython",
    "version": 3
   },
   "file_extension": ".py",
   "mimetype": "text/x-python",
   "name": "python",
   "nbconvert_exporter": "python",
   "pygments_lexer": "ipython3",
   "version": "3.12.3"
  }
 },
 "nbformat": 4,
 "nbformat_minor": 5
}
