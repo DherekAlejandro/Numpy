{
 "cells": [
  {
   "cell_type": "markdown",
   "id": "a68806a9-66f3-4d3d-a528-42829df4ff0d",
   "metadata": {},
   "source": [
    "# NUMPY X PANDAS"
   ]
  },
  {
   "cell_type": "markdown",
   "id": "63548cbb-4da2-4d7d-a020-6b3d2d2cd959",
   "metadata": {},
   "source": [
    "NumPy y Pandas son dos bibliotecas fundamentales en Python para el análisis de datos y la manipulación de estructuras de datos:\n",
    "\n",
    "NumPy es una biblioteca de Python para el cálculo numérico que proporciona soporte para arrays multidimensionales y funciones matemáticas de alto rendimiento.\n",
    "\n",
    "Pandas es una biblioteca de Python que ofrece estructuras de datos y herramientas para la manipulación y análisis de datos. A diferencia de NumPy, que está orientado a operaciones numéricas en arrays, Pandas está diseñado para trabajar con datos estructurados y etiquetados, como hojas de cálculo y bases de datos."
   ]
  },
  {
   "attachments": {},
   "cell_type": "markdown",
   "id": "7a860cc2-f6b8-4e81-8187-dc4f9b8099ce",
   "metadata": {},
   "source": [
    "Los objetivos de este JN son:\n",
    "\n",
    "1. Definir arrays unidimensionales y multidimensionales.\n",
    "2. Aprovechar los métodos y funciones incorporados en NumPy.\n",
    "3. Realizar operaciones matemáticas con NumPy.\n",
    "4. Realizar el corte y la indexación de arrays."
   ]
  },
  {
   "cell_type": "code",
   "execution_count": 12,
   "id": "49e470f1-7981-4fa4-8e3b-8142703b7b8b",
   "metadata": {},
   "outputs": [],
   "source": [
    "# Importar las librerías\n",
    "import numpy as np\n",
    "import pandas as pd"
   ]
  },
  {
   "cell_type": "markdown",
   "id": "c41b294a-0413-45c2-9e01-fb50a0f09296",
   "metadata": {},
   "source": [
    "1: Familiarizarse con la creación de arreglos unidimensionales y multidimensionales en NumPy.\n",
    "\n",
    "Un array (o arreglo) es una estructura de datos que almacena una colección de elementos. En el contexto de la biblioteca NumPy, que es ampliamente utilizada para operaciones numéricas y de análisis de datos, los arrays son especialmente útiles para trabajar con datos numéricos y realizar operaciones matemáticas."
   ]
  },
  {
   "cell_type": "code",
   "execution_count": 13,
   "id": "04f1efe6-4bab-4d9d-88c8-a5677335f873",
   "metadata": {},
   "outputs": [
    {
     "data": {
      "text/plain": [
       "array([ 50, 100, 150, 200])"
      ]
     },
     "execution_count": 13,
     "metadata": {},
     "output_type": "execute_result"
    }
   ],
   "source": [
    "# Crear un array unidimensional\n",
    "array_unidimensional = np.array([50, 100, 150, 200])\n",
    "array_unidimensional"
   ]
  },
  {
   "cell_type": "code",
   "execution_count": 14,
   "id": "60158acb-039c-4c91-a358-8c88f7a53f9b",
   "metadata": {},
   "outputs": [
    {
     "data": {
      "text/plain": [
       "array([ 50, 100, 150, 200])"
      ]
     },
     "execution_count": 14,
     "metadata": {},
     "output_type": "execute_result"
    }
   ],
   "source": [
    "# Crear un array unidimensional a partir de una tupla\n",
    "l = (50, 100, 150, 200)\n",
    "array_unidimensional = np.array(l)\n",
    "\n",
    "array_unidimensional"
   ]
  },
  {
   "cell_type": "code",
   "execution_count": 15,
   "id": "e61ae912-f199-4f0a-b38c-de3229422309",
   "metadata": {},
   "outputs": [
    {
     "data": {
      "text/plain": [
       "array([[ 50, 100, 150],\n",
       "       [200, 250, 300]])"
      ]
     },
     "execution_count": 15,
     "metadata": {},
     "output_type": "execute_result"
    }
   ],
   "source": [
    "# Crear un array bidimensional (matriz)\n",
    "array_multidimensional = np.array ([[50, 100, 150],\n",
    "                               [200, 250, 300]])\n",
    "array_multidimensional"
   ]
  },
  {
   "cell_type": "markdown",
   "id": "d25a989c-872e-42ef-8942-d23de8a15096",
   "metadata": {},
   "source": [
    "array Unidimensional: Usamos np.array() para crear un vector simple.\n",
    "array Bidimensional: Usamos una lista de listas dentro de np.array() para definir una matriz."
   ]
  },
  {
   "cell_type": "markdown",
   "id": "45667e6a-39a5-42ce-aac0-92beda8caa41",
   "metadata": {},
   "source": [
    "2: Utilizar funciones y métodos de NumPy para generar arreglos aleatorios y especiales."
   ]
  },
  {
   "cell_type": "code",
   "execution_count": 16,
   "id": "56d5ff7d-858f-4e9f-b929-2f91e4e7986f",
   "metadata": {},
   "outputs": [
    {
     "data": {
      "text/plain": [
       "array([0.04854287, 0.87026286, 0.42439282, 0.08637492, 0.23134846])"
      ]
     },
     "execution_count": 16,
     "metadata": {},
     "output_type": "execute_result"
    }
   ],
   "source": [
    "# Crear un arrray unidimensional con números aleatorios entre 0 y 1\n",
    "array_unidimensional = np.random.rand(5)\n",
    "array_unidimensional"
   ]
  },
  {
   "cell_type": "code",
   "execution_count": 17,
   "id": "1dc276de-3264-4ebf-affb-96f881b88f58",
   "metadata": {},
   "outputs": [
    {
     "data": {
      "text/plain": [
       "array([[0.82058651, 0.87975796, 0.14682672, 0.80680023],\n",
       "       [0.87449008, 0.8233965 , 0.90413538, 0.42209961],\n",
       "       [0.48051922, 0.79283336, 0.33340672, 0.93267334]])"
      ]
     },
     "execution_count": 17,
     "metadata": {},
     "output_type": "execute_result"
    }
   ],
   "source": [
    "# Crear un arrray bidimensional con números aleatorios entre 0 y 1\n",
    "array_bidimensional = np.random.rand(3, 4)\n",
    "array_bidimensional"
   ]
  },
  {
   "cell_type": "code",
   "execution_count": 18,
   "id": "2333901a-e67d-4035-987e-af3e979d7c29",
   "metadata": {},
   "outputs": [
    {
     "data": {
      "text/plain": [
       "8"
      ]
     },
     "execution_count": 18,
     "metadata": {},
     "output_type": "execute_result"
    }
   ],
   "source": [
    "# Generar un número entero aleatorio entre 0 y 10\n",
    "numero_aleatorio = np.random.randint(0, 10)\n",
    "numero_aleatorio"
   ]
  },
  {
   "cell_type": "code",
   "execution_count": 19,
   "id": "ea1bc253-e3b2-43cc-86ae-175f87015c84",
   "metadata": {},
   "outputs": [
    {
     "data": {
      "text/plain": [
       "array([19,  1, 84, 11, 56])"
      ]
     },
     "execution_count": 19,
     "metadata": {},
     "output_type": "execute_result"
    }
   ],
   "source": [
    "# Crear un arrray unidimensional con números enteros aleatorios entre 1 y 100\n",
    "array_unidimensional = np.random.randint(1, 100, size=5)\n",
    "array_unidimensional"
   ]
  },
  {
   "cell_type": "code",
   "execution_count": 20,
   "id": "f8ee66ac-1cc4-4a8c-b6c7-1b5ce0b64af0",
   "metadata": {},
   "outputs": [
    {
     "data": {
      "text/plain": [
       "array([[29, 17, 11, 22],\n",
       "       [40, 45, 27, 14],\n",
       "       [15, 34, 22, 26]])"
      ]
     },
     "execution_count": 20,
     "metadata": {},
     "output_type": "execute_result"
    }
   ],
   "source": [
    "# Crear un arrray bidimensional con números enteros aleatorios entre 10 y 50\n",
    "array_bidimensional = np.random.randint(10, 50, size=(3, 4))\n",
    "array_bidimensional"
   ]
  },
  {
   "cell_type": "code",
   "execution_count": 21,
   "id": "26c698f6-9797-4ffa-af4d-e7e82d3fab39",
   "metadata": {},
   "outputs": [
    {
     "data": {
      "text/plain": [
       "array([0, 1, 2, 3, 4, 5, 6, 7, 8, 9])"
      ]
     },
     "execution_count": 21,
     "metadata": {},
     "output_type": "execute_result"
    }
   ],
   "source": [
    "# Crear un arrray con valores secuenciales de 0 a 9\n",
    "array = np.arange(10)\n",
    "array"
   ]
  },
  {
   "cell_type": "code",
   "execution_count": 22,
   "id": "73027416-5bef-4e71-a12a-4bce1dc9db4b",
   "metadata": {},
   "outputs": [
    {
     "data": {
      "text/plain": [
       "array([ 5,  7,  9, 11, 13])"
      ]
     },
     "execution_count": 22,
     "metadata": {},
     "output_type": "execute_result"
    }
   ],
   "source": [
    "# Crear un arrray con valores secuenciales del 5 al 15 (sin incluir 15) con paso de 2\n",
    "array = np.arange(5, 15, 2)\n",
    "array"
   ]
  },
  {
   "cell_type": "code",
   "execution_count": 23,
   "id": "4ecfca3f-d415-4d59-b34d-102b6ade6cab",
   "metadata": {},
   "outputs": [
    {
     "data": {
      "text/plain": [
       "array([0.5, 1. , 1.5, 2. , 2.5, 3. , 3.5, 4. , 4.5])"
      ]
     },
     "execution_count": 23,
     "metadata": {},
     "output_type": "execute_result"
    }
   ],
   "source": [
    "# Crear un arrray con valores secuenciales desde 0.5 hasta 5.0 con paso de 0.5\n",
    "array = np.arange(0.5, 5.0, 0.5)\n",
    "array"
   ]
  },
  {
   "cell_type": "markdown",
   "id": "6e23d3be-042e-4754-8f2f-44ec91ec48cb",
   "metadata": {},
   "source": [
    "Una matriz es una estructura matemática que se utiliza para representar datos en un formato tabular, consistente en un conjunto de números organizados en filas y columnas."
   ]
  },
  {
   "cell_type": "code",
   "execution_count": 24,
   "id": "d54a6857-7cca-401d-a58c-1de9aeb7895e",
   "metadata": {},
   "outputs": [
    {
     "data": {
      "text/plain": [
       "array([[1, 0, 0],\n",
       "       [0, 1, 0],\n",
       "       [0, 0, 1]])"
      ]
     },
     "execution_count": 24,
     "metadata": {},
     "output_type": "execute_result"
    }
   ],
   "source": [
    "# Crear una matriz diagonal de unos\n",
    "matriz_diagonal = np.eye(3, dtype=int)\n",
    "matriz_diagonal"
   ]
  },
  {
   "cell_type": "code",
   "execution_count": 25,
   "id": "f29b989c-2702-4f35-be0f-b6cd3f12f49c",
   "metadata": {},
   "outputs": [
    {
     "data": {
      "text/plain": [
       "array([[1, 0, 0, 0, 0],\n",
       "       [0, 1, 0, 0, 0],\n",
       "       [0, 0, 1, 0, 0],\n",
       "       [0, 0, 0, 1, 0]])"
      ]
     },
     "execution_count": 25,
     "metadata": {},
     "output_type": "execute_result"
    }
   ],
   "source": [
    "# Crear una matriz diagonal de unos con dimensiones 4x5\n",
    "matriz_diagonal = np.eye(4, 5, dtype=int)\n",
    "matriz_diagonal"
   ]
  },
  {
   "cell_type": "code",
   "execution_count": 26,
   "id": "a95fc53b-60c8-4cb8-9243-86ef876194b6",
   "metadata": {},
   "outputs": [
    {
     "data": {
      "text/plain": [
       "array([[0, 1, 0, 0],\n",
       "       [0, 0, 1, 0],\n",
       "       [0, 0, 0, 1],\n",
       "       [0, 0, 0, 0]])"
      ]
     },
     "execution_count": 26,
     "metadata": {},
     "output_type": "execute_result"
    }
   ],
   "source": [
    "# Crear una matriz diagonal superior (diagonal con desplazamiento k=1)\n",
    "matriz_diagonal_superior = np.eye(4, k=1, dtype=int)\n",
    "matriz_diagonal_superior"
   ]
  },
  {
   "cell_type": "code",
   "execution_count": 27,
   "id": "cfcb6b32-90bf-4de7-80cb-799589c9fce0",
   "metadata": {},
   "outputs": [
    {
     "data": {
      "text/plain": [
       "array([[1, 1, 1],\n",
       "       [1, 1, 1],\n",
       "       [1, 1, 1]])"
      ]
     },
     "execution_count": 27,
     "metadata": {},
     "output_type": "execute_result"
    }
   ],
   "source": [
    "# Crear una matriz de unos de 3x3\n",
    "matriz_de_unos = np.ones((3, 3), dtype=int)\n",
    "matriz_de_unos"
   ]
  },
  {
   "cell_type": "code",
   "execution_count": 28,
   "id": "40f12282-74b4-4bc5-87f4-e5f42f9df54b",
   "metadata": {},
   "outputs": [
    {
     "data": {
      "text/plain": [
       "array([[0, 0, 0],\n",
       "       [0, 0, 0],\n",
       "       [0, 0, 0]])"
      ]
     },
     "execution_count": 28,
     "metadata": {},
     "output_type": "execute_result"
    }
   ],
   "source": [
    "# Crear una matriz de ceros de 3x3\n",
    "matriz_de_ceros = np.zeros((3, 3), dtype=int)\n",
    "matriz_de_ceros"
   ]
  },
  {
   "cell_type": "markdown",
   "id": "9ab945b1-5785-43b7-b4fe-e965dfb76834",
   "metadata": {},
   "source": [
    "np.random.rand() y np.random.randint(): Generan arreglos con valores aleatorios.\n",
    "np.arange(): Crea arreglos con valores secuenciales.\n",
    "Matrices Especiales: np.eye() crea matrices diagonales, np.ones() y np.zeros() crean matrices llenas de unos y ceros, respectivamente."
   ]
  },
  {
   "cell_type": "markdown",
   "id": "669c3531-02d0-47c6-9a17-3fa4c0c5f236",
   "metadata": {},
   "source": [
    "3: Aplicar operaciones matemáticas básicas y utilizar funciones NumPy para cálculos."
   ]
  },
  {
   "cell_type": "code",
   "execution_count": 29,
   "id": "c0c81e2e-e8d4-4134-b970-ad2077500c20",
   "metadata": {},
   "outputs": [
    {
     "name": "stdout",
     "output_type": "stream",
     "text": [
      "Resultado de la suma:\n"
     ]
    },
    {
     "data": {
      "text/plain": [
       "array([[0.14285714, 0.25      , 0.33333333],\n",
       "       [0.4       , 0.45454545, 0.5       ]])"
      ]
     },
     "execution_count": 29,
     "metadata": {},
     "output_type": "execute_result"
    }
   ],
   "source": [
    "# Operaciones elementales con arrays\n",
    "# Dividir dos arrays\n",
    "array1 = np.array([[1, 2, 3], [4, 5, 6]])\n",
    "array2 = np.array([[7, 8, 9], [10, 11, 12]])\n",
    "\n",
    "resultado = array1 / array2\n",
    "\n",
    "print(\"Resultado de la suma:\")\n",
    "resultado"
   ]
  },
  {
   "cell_type": "code",
   "execution_count": 30,
   "id": "655c256b-f1a1-4565-855e-850735aa07e0",
   "metadata": {},
   "outputs": [
    {
     "name": "stdout",
     "output_type": "stream",
     "text": [
      "Resultado de la suma usando np.add():\n"
     ]
    },
    {
     "data": {
      "text/plain": [
       "array([[ 8, 10, 12],\n",
       "       [14, 16, 18]])"
      ]
     },
     "execution_count": 30,
     "metadata": {},
     "output_type": "execute_result"
    }
   ],
   "source": [
    "# Sumar dos arrays usando np.add()\n",
    "array1 = np.array([[1, 2, 3], [4, 5, 6]])\n",
    "array2 = np.array([[7, 8, 9], [10, 11, 12]])\n",
    "\n",
    "resultado = np.add(array1, array2)\n",
    "\n",
    "print(\"Resultado de la suma usando np.add():\")\n",
    "resultado"
   ]
  },
  {
   "cell_type": "code",
   "execution_count": 31,
   "id": "777b17f9-b861-484b-88dd-2fdbfd724951",
   "metadata": {},
   "outputs": [
    {
     "name": "stdout",
     "output_type": "stream",
     "text": [
      "La distancia entre los puntos es: 5.0\n"
     ]
    }
   ],
   "source": [
    "# Calcular la distancia euclidiana entre dos puntos (x1, y1) y (x2, y2)\n",
    "x1, y1 = 2, 3\n",
    "x2, y2 = 5, 7\n",
    "\n",
    "distancia = np.sqrt((x2 - x1)**2 + (y2 - y1)**2)\n",
    "\n",
    "print(\"La distancia entre los puntos es:\", distancia)"
   ]
  },
  {
   "cell_type": "code",
   "execution_count": 32,
   "id": "28d29148-0e33-49b8-b498-c198ba51de04",
   "metadata": {},
   "outputs": [
    {
     "name": "stdout",
     "output_type": "stream",
     "text": [
      "Array original: [1 2 3 4 5]\n",
      "Array después de sumar el escalar: [11 12 13 14 15]\n"
     ]
    }
   ],
   "source": [
    "# Operaciones con escalar\n",
    "# Sumar un escalar a cada elemento del array\n",
    "array = np.array([1, 2, 3, 4, 5])\n",
    "result = array + 10\n",
    "\n",
    "print(\"Array original:\", array)\n",
    "print(\"Array después de sumar el escalar:\", result)"
   ]
  },
  {
   "cell_type": "code",
   "execution_count": 47,
   "id": "b7ea90e7-4615-45a6-b1e6-225f3bef1c72",
   "metadata": {},
   "outputs": [
    {
     "name": "stdout",
     "output_type": "stream",
     "text": [
      "Matriz original:\n",
      "[[10 20 30]\n",
      " [40 50 60]\n",
      " [70 80 90]]\n",
      "Vector:\n",
      "[1 2 3]\n",
      "Matriz después de restar el vector:\n"
     ]
    },
    {
     "data": {
      "text/plain": [
       "array([[ 9, 18, 27],\n",
       "       [39, 48, 57],\n",
       "       [69, 78, 87]])"
      ]
     },
     "execution_count": 47,
     "metadata": {},
     "output_type": "execute_result"
    }
   ],
   "source": [
    "# Operaciones entre matrices y vectores\n",
    "matrix = np.array([[10, 20, 30], [40, 50, 60], [70, 80, 90]])\n",
    "vector = np.array([1, 2, 3])\n",
    "\n",
    "# Restar el vector de cada fila de la matriz\n",
    "result = matrix - vector\n",
    "\n",
    "print(\"Matriz original:\")\n",
    "print(matrix)\n",
    "print(\"Vector:\")\n",
    "print(vector)\n",
    "print(\"Matriz después de restar el vector:\")\n",
    "result"
   ]
  },
  {
   "cell_type": "code",
   "execution_count": 34,
   "id": "e6065a26-36bc-498b-a452-95ac49b56df7",
   "metadata": {},
   "outputs": [
    {
     "name": "stdout",
     "output_type": "stream",
     "text": [
      "Array 2D original:\n",
      "[[1 2 3]\n",
      " [4 5 6]]\n",
      "Array 1D:\n",
      "[10 20 30]\n",
      "Array 2D después de sumar el array 1D:\n"
     ]
    },
    {
     "data": {
      "text/plain": [
       "array([[11, 22, 33],\n",
       "       [14, 25, 36]])"
      ]
     },
     "execution_count": 34,
     "metadata": {},
     "output_type": "execute_result"
    }
   ],
   "source": [
    "# Sumar el array unidimensional a cada fila del array bidimensional\n",
    "array_2d = np.array([[1, 2, 3], [4, 5, 6]])\n",
    "array_1d = np.array([10, 20, 30])\n",
    "\n",
    "result = array_2d + array_1d\n",
    "\n",
    "print(\"Array 2D original:\")\n",
    "print(array_2d)\n",
    "print(\"Array 1D:\")\n",
    "print(array_1d)\n",
    "print(\"Array 2D después de sumar el array 1D:\")\n",
    "result"
   ]
  },
  {
   "cell_type": "markdown",
   "id": "0e7830a6-95a9-4f32-b317-01d9dd581cc4",
   "metadata": {},
   "source": [
    "4: Practicar cómo acceder y modificar datos en arreglos usando indexación y corte.\n",
    "\n",
    "La indexación es el proceso de acceder a elementos específicos dentro de una estructura de datos utilizando índices. En programación y análisis de datos, la indexación se aplica a diversos tipos de datos, como listas, arrays, matrices, y DataFrames, permitiendo obtener o modificar elementos en posiciones específicas."
   ]
  },
  {
   "cell_type": "code",
   "execution_count": 35,
   "id": "17175c9a-0dc9-4f2a-94b2-8730dc3d59d0",
   "metadata": {},
   "outputs": [
    {
     "name": "stdout",
     "output_type": "stream",
     "text": [
      "Elemento en el índice 2: 30\n"
     ]
    }
   ],
   "source": [
    "# Indexar array unidimensional\n",
    "array_1d = np.array([10, 20, 30, 40, 50])\n",
    "# Acceder al elemento en el índice 2\n",
    "element = array_1d[2]\n",
    "\n",
    "print(\"Elemento en el índice 2:\", element)"
   ]
  },
  {
   "cell_type": "code",
   "execution_count": 36,
   "id": "b78ccad6-f6c6-440b-aba2-c471796d8a0a",
   "metadata": {},
   "outputs": [
    {
     "name": "stdout",
     "output_type": "stream",
     "text": [
      "Elemento en la fila 1, columna 2: 6\n"
     ]
    }
   ],
   "source": [
    "# Indexar en arrays bidimensional\n",
    "array_2d = np.array([[1, 2, 3], [4, 5, 6], [7, 8, 9]])\n",
    "# Acceder al elemento en la fila 1, columna 2\n",
    "element = array_2d[1, 2]\n",
    "\n",
    "print(\"Elemento en la fila 1, columna 2:\", element)"
   ]
  },
  {
   "cell_type": "code",
   "execution_count": 37,
   "id": "a401ddd7-9c6a-40ce-ab17-0cc66ae64118",
   "metadata": {},
   "outputs": [
    {
     "name": "stdout",
     "output_type": "stream",
     "text": [
      "Elemento en la capa 1, fila 0, columna 2: 9\n"
     ]
    }
   ],
   "source": [
    "# Indexar en array tridimensional\n",
    "array_3d = np.array([[[1, 2, 3], [4, 5, 6]], [[7, 8, 9], [10, 11, 12]]])\n",
    "# Acceder al elemento en la capa 1, fila 0, columna 2\n",
    "element = array_3d[1, 0, 2]\n",
    "\n",
    "print(\"Elemento en la capa 1, fila 0, columna 2:\", element)"
   ]
  },
  {
   "cell_type": "code",
   "execution_count": 50,
   "id": "195be5a7-3e99-4137-87f9-329c683522a7",
   "metadata": {},
   "outputs": [
    {
     "name": "stdout",
     "output_type": "stream",
     "text": [
      "Matriz original:\n",
      "[[1 2 3]\n",
      " [4 5 6]\n",
      " [7 8 9]]\n",
      "Elemento en la fila 1, columna 2:\n"
     ]
    },
    {
     "data": {
      "text/plain": [
       "6"
      ]
     },
     "execution_count": 50,
     "metadata": {},
     "output_type": "execute_result"
    }
   ],
   "source": [
    "# Indexar en una matriz bidimensional\n",
    "matrix = np.array([[1, 2, 3],\n",
    "                   [4, 5, 6],\n",
    "                   [7, 8, 9]])\n",
    "# Acceder al elemento en la fila 1, columna 2\n",
    "element = matrix[1, 2]\n",
    "\n",
    "print(\"Matriz original:\")\n",
    "print(matrix)\n",
    "print(\"Elemento en la fila 1, columna 2:\")\n",
    "element\n"
   ]
  },
  {
   "cell_type": "code",
   "execution_count": 49,
   "id": "025d01d7-94bd-42fd-aba7-da030f521b93",
   "metadata": {},
   "outputs": [
    {
     "name": "stdout",
     "output_type": "stream",
     "text": [
      "Array original: [10 20 30 40 50]\n",
      "Subset (desde el índice 0 hasta el penúltimo elemento): [10 20 30 40]\n"
     ]
    }
   ],
   "source": [
    "# Cortar (slicing) en arreglos unidimensionales\n",
    "# Obtener un subconjunto del array (desde el inicio hasta el penúltimo elemento)\n",
    "array = np.array([10, 20, 30, 40, 50])\n",
    "subset = array[:-1]\n",
    "\n",
    "print(\"Array original:\", array)\n",
    "print(\"Subset (desde el índice 0 hasta el penúltimo elemento):\", subset)"
   ]
  },
  {
   "cell_type": "code",
   "execution_count": 51,
   "id": "0cb92c54-a744-4bf0-9f2e-744bc8e2e547",
   "metadata": {},
   "outputs": [
    {
     "name": "stdout",
     "output_type": "stream",
     "text": [
      "Array 2D original:\n",
      "[[1 2 3]\n",
      " [4 5 6]\n",
      " [7 8 9]]\n",
      "Subset 2D (todas las filas y todas las columnas excepto la última):\n"
     ]
    },
    {
     "data": {
      "text/plain": [
       "array([[1, 2],\n",
       "       [4, 5],\n",
       "       [7, 8]])"
      ]
     },
     "execution_count": 51,
     "metadata": {},
     "output_type": "execute_result"
    }
   ],
   "source": [
    "# Obtener un subconjunto del array (todas las filas y todas las columnas excepto la última)\n",
    "array_2d = np.array([[1, 2, 3], [4, 5, 6], [7, 8, 9]])\n",
    "subset_2d = array_2d[:, :-1]\n",
    "\n",
    "print(\"Array 2D original:\")\n",
    "print(array_2d)\n",
    "print(\"Subset 2D (todas las filas y todas las columnas excepto la última):\")\n",
    "subset_2d"
   ]
  },
  {
   "cell_type": "code",
   "execution_count": 52,
   "id": "87c8f338-bed5-4ac8-934a-95af93f1b8b7",
   "metadata": {},
   "outputs": [
    {
     "name": "stdout",
     "output_type": "stream",
     "text": [
      "Matriz original:\n",
      "[[10 20 30]\n",
      " [40 50 60]\n",
      " [70 80 90]]\n",
      "Fila obtenida (fila 1):\n"
     ]
    },
    {
     "data": {
      "text/plain": [
       "array([40, 50, 60])"
      ]
     },
     "execution_count": 52,
     "metadata": {},
     "output_type": "execute_result"
    }
   ],
   "source": [
    "# Seleccionar filas específicas en una matriz (FIla 1)\n",
    "matrix = np.array([[10, 20, 30],\n",
    "                   [40, 50, 60],\n",
    "                   [70, 80, 90]])\n",
    "row = matrix[1]\n",
    "\n",
    "print(\"Matriz original:\")\n",
    "print(matrix)\n",
    "print(\"Fila obtenida (fila 1):\")\n",
    "row"
   ]
  },
  {
   "cell_type": "code",
   "execution_count": 42,
   "id": "44767a22-8036-4016-9701-c33215ef05f3",
   "metadata": {},
   "outputs": [
    {
     "name": "stdout",
     "output_type": "stream",
     "text": [
      "Filas obtenidas (fila 0 y fila 2):\n"
     ]
    },
    {
     "data": {
      "text/plain": [
       "array([[10, 20, 30],\n",
       "       [70, 80, 90]])"
      ]
     },
     "execution_count": 42,
     "metadata": {},
     "output_type": "execute_result"
    }
   ],
   "source": [
    "# Seleccionar múltiples filas en una matriz (Filas 0 y 2)\n",
    "matrix = np.array([[10, 20, 30],\n",
    "                   [40, 50, 60],\n",
    "                   [70, 80, 90]])\n",
    "rows = matrix[[0, 2]]\n",
    "\n",
    "print(\"Filas obtenidas (fila 0 y fila 2):\")\n",
    "rows"
   ]
  },
  {
   "cell_type": "code",
   "execution_count": 43,
   "id": "8e4480a8-2d96-463f-9cd4-3e4c2a3e40b3",
   "metadata": {},
   "outputs": [
    {
     "name": "stdout",
     "output_type": "stream",
     "text": [
      "Elementos impares:\n"
     ]
    },
    {
     "data": {
      "text/plain": [
       "array([ 1,  3,  5,  7,  9, 11, 13, 15])"
      ]
     },
     "execution_count": 43,
     "metadata": {},
     "output_type": "execute_result"
    }
   ],
   "source": [
    "# Seleccionar elementos impares en una matriz\n",
    "matrix = np.array([[1, 2, 3, 4],\n",
    "                   [5, 6, 7, 8],\n",
    "                   [9, 10, 11, 12],\n",
    "                   [13, 14, 15, 16]])\n",
    "\n",
    "odd_elements = matrix[matrix % 2 != 0]\n",
    "\n",
    "print(\"Elementos impares:\")\n",
    "odd_elements"
   ]
  },
  {
   "cell_type": "code",
   "execution_count": 44,
   "id": "c30cbc61-428c-40f7-83e3-637f1e44126f",
   "metadata": {},
   "outputs": [
    {
     "name": "stdout",
     "output_type": "stream",
     "text": [
      "Matriz después de reemplazar la última fila con ceros:\n"
     ]
    },
    {
     "data": {
      "text/plain": [
       "array([[ 2, 30, 20, -2, -4],\n",
       "       [ 3,  4, 40, -3, -2],\n",
       "       [-3,  4, -6, 90, 10],\n",
       "       [25, 45, 34, 22, 12],\n",
       "       [ 0,  0,  0,  0,  0]])"
      ]
     },
     "execution_count": 44,
     "metadata": {},
     "output_type": "execute_result"
    }
   ],
   "source": [
    "# Seleccionar la última fila en una matriz (Reemplazar la última fila con ceros)\n",
    "X = np.array([[2, 30, 20, -2, -4],\n",
    "              [3, 4, 40, -3, -2],\n",
    "              [-3, 4, -6, 90, 10],\n",
    "              [25, 45, 34, 22, 12],\n",
    "              [13, 24, 22, 32, 37]])\n",
    "X[-1, :] = 0\n",
    "\n",
    "print(\"Matriz después de reemplazar la última fila con ceros:\")\n",
    "X"
   ]
  },
  {
   "cell_type": "code",
   "execution_count": 46,
   "id": "d33a7d98-a661-469a-909d-9fd32ea9c3fd",
   "metadata": {},
   "outputs": [
    {
     "name": "stdout",
     "output_type": "stream",
     "text": [
      "Matriz después de reemplazar la última columna con ceros:\n"
     ]
    },
    {
     "data": {
      "text/plain": [
       "array([[ 2, 30, 20, -2,  0],\n",
       "       [ 3,  4, 40, -3,  0],\n",
       "       [-3,  4, -6, 90,  0],\n",
       "       [25, 45, 34, 22,  0],\n",
       "       [13, 24, 22, 32,  0]])"
      ]
     },
     "execution_count": 46,
     "metadata": {},
     "output_type": "execute_result"
    }
   ],
   "source": [
    "# Seleccionar la última columna en una matriz (Reemplazar la última columna con ceros)\n",
    "X = np.array([[2, 30, 20, -2, -4],\n",
    "              [3, 4, 40, -3, -2],\n",
    "              [-3, 4, -6, 90, 10],\n",
    "              [25, 45, 34, 22, 12],\n",
    "              [13, 24, 22, 32, 37]])\n",
    "X[:, -1] = 0\n",
    "\n",
    "print(\"Matriz después de reemplazar la última columna con ceros:\")\n",
    "X"
   ]
  }
 ],
 "metadata": {
  "kernelspec": {
   "display_name": "Python 3 (ipykernel)",
   "language": "python",
   "name": "python3"
  },
  "language_info": {
   "codemirror_mode": {
    "name": "ipython",
    "version": 3
   },
   "file_extension": ".py",
   "mimetype": "text/x-python",
   "name": "python",
   "nbconvert_exporter": "python",
   "pygments_lexer": "ipython3",
   "version": "3.12.3"
  }
 },
 "nbformat": 4,
 "nbformat_minor": 5
}
